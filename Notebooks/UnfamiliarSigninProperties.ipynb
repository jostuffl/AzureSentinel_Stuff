{
 "cells": [
  {
   "cell_type": "markdown",
   "id": "2e4aeec1",
   "metadata": {},
   "source": [
    "<div class=\"alert alert-block alert-info\">\n",
    "<b><h1>Requirements:</b> First we need to install the required powershell modules</h1>\n",
    "</div>"
   ]
  },
  {
   "cell_type": "code",
   "execution_count": null,
   "id": "013133eb",
   "metadata": {
    "jupyter": {
     "source_hidden": true
    }
   },
   "outputs": [],
   "source": [
    "Install-Module Az.OperationalInsights,Az.SecurityInsights,MCAS"
   ]
  },
  {
   "cell_type": "markdown",
   "id": "24d3f248",
   "metadata": {
    "jp-MarkdownHeadingCollapsed": true,
    "tags": []
   },
   "source": [
    "# Configuration and Setup\n",
    "\n",
    "\n",
    "- This section is for setting up / verifying your configuration file\n",
    "    - Connecting to your Azure Account\n",
    "    - Setting the HTML Header for our charts."
   ]
  },
  {
   "cell_type": "markdown",
   "id": "4c4306f9",
   "metadata": {},
   "source": [
    "## Verifying Your Configuration File is present and valid"
   ]
  },
  {
   "cell_type": "code",
   "execution_count": null,
   "id": "f69c1ba5",
   "metadata": {
    "gather": {
     "logged": 1630962427920
    },
    "jupyter": {
     "source_hidden": true
    },
    "tags": []
   },
   "outputs": [],
   "source": [
    "##Get your configuration file settings\n",
    "$nbcontentpath = \"config.json\"\n",
    "if(!(test-path $nbcontentpath)){\n",
    "    write-host \"INFO: Your configuration path ($nbcontentpath) could not be located.\"\n",
    "    write-host \"INFO: Attempting to build the file path explicitly.  If this continues to be a problem, run 'dir' within the cell to find the current working directory and update the `$nbcontentpath variable accordingly.\"    \n",
    "    $configpath = read-host \"Enter the top level folder where the config is stored:\"\n",
    "    $nbcontentpath = \"$configpath\"+ \"config.json\"\n",
    "}\n",
    "\n",
    "##Path fix in case you picked up the cookie cutter configuration file (if you cloned repo from GitHub in terminal)\n",
    "if(test-path $nbcontentpath){\n",
    "    $content = gc $nbcontentpath | ?{$_ -match \"cookiecutter\"}\n",
    "    if($content.Length -gt 0) {\n",
    "        $nbcontentpath = \"..\\\" + $nbcontentpath\n",
    "    }    \n",
    "}\n",
    "\n",
    "try {\n",
    "    $nbconfigcontent = Get-Content $nbcontentpath -ErrorAction Stop    \n",
    "}\n",
    "catch {\n",
    "    write-host \"ERROR: Your configuration path ($nbcontentpath) could not be located. Please fix before continuing further.\"    \n",
    "}\n",
    "\n",
    "##Set variables you will use throughout the notebook\n",
    "$tenantid =  ($nbconfigcontent | ConvertFrom-Json).tenant_id\n",
    "$subscriptionid = ($nbconfigcontent | ConvertFrom-Json).subscription_id\n",
    "$resourcegroup = ($nbconfigcontent | ConvertFrom-Json).resource_group\n",
    "$workspacename = ($nbconfigcontent | ConvertFrom-Json).workspace_name\n",
    "$workspaceid = ($nbconfigcontent | ConvertFrom-Json).workspace_id\n",
    "\n",
    "Write-Host \"subscriptionid: \" -NoNewline \n",
    "Write-Host $subscriptionid -ForegroundColor \"DarkRed\"\n",
    "Write-Host \"tenantid: \" -NoNewline \n",
    "write-host $tenantid  -ForegroundColor \"DarkRed\"\n",
    "Write-Host \"workspaceid: \" -NoNewline \n",
    "Write-host $workspaceid -Foregroundcolor \"DarkRed\"\n",
    "Write-Host \"workspacename: \" -NoNewline \n",
    "Write-host $workspacename -ForegroundColor \"DarkRed\"\n",
    "Write-Host \"resourcegroup: \" -NoNewline \n",
    "Write-host $resourcegroup -ForegroundColor \"DarkRed\""
   ]
  },
  {
   "cell_type": "markdown",
   "id": "699afe60",
   "metadata": {
    "nteract": {
     "transient": {
      "deleting": false
     }
    }
   },
   "source": [
    "## Azure Account Authentication\n",
    "\n",
    "- The output from the cell below will provide you with a **url** and **code** to authorize access to your Azure Account."
   ]
  },
  {
   "cell_type": "code",
   "execution_count": null,
   "id": "72df19f5",
   "metadata": {
    "gather": {
     "logged": 1630981575047
    },
    "jupyter": {
     "source_hidden": true
    },
    "tags": []
   },
   "outputs": [],
   "source": [
    "Connect-AzAccount -UseDeviceAuthentication\n",
    "Select-AzSubscription -SubscriptionId $subscriptionid | Set-AzContext"
   ]
  },
  {
   "cell_type": "markdown",
   "id": "f7edef65",
   "metadata": {},
   "source": [
    "## Validate that the correct workspace is selected\n",
    "- Anywhere in the notebook you see three dots you can click them to expand the cell referenced in the notes"
   ]
  },
  {
   "cell_type": "code",
   "execution_count": null,
   "id": "f53cd6d3",
   "metadata": {
    "gather": {
     "logged": 1630981580029
    },
    "jupyter": {
     "source_hidden": true
    },
    "tags": []
   },
   "outputs": [],
   "source": [
    "##Configure the Log Analytics workspace\n",
    "$Workspace = $null\n",
    "$workspaces = Get-AzOperationalInsightsWorkspace -ResourceGroupName $resourcegroup\n",
    "if($workspaces.Length -gt 1) {\n",
    "    Write-Host \"INFO: Multiple workspaces detected.\" \n",
    "    foreach($wksp in $workspaces){\n",
    "        if($wksp.Name -eq $workspacename)    {\n",
    "          $Workspace = $wksp\n",
    "        }        \n",
    "    }    \n",
    "}\n",
    "else {\n",
    "     $Workspace = $workspaces \n",
    "}\n",
    "Write-Host \"INFO: Ensure that the workspace -- {\"$Workspace.Name\"} is the intended target workspace before continuing to the next cell.\"   \n",
    "$Workspace"
   ]
  },
  {
   "cell_type": "markdown",
   "id": "50222c79",
   "metadata": {
    "tags": []
   },
   "source": [
    "## Set HTML Chart Properties\n",
    "\n",
    "- This sets the HTML header for the tables we will be using for our output in the notebook.\n",
    "- If you don't run the cell below your tables will not be formatted correctly.\n",
    "- You will not see any output from the cell below when you run it."
   ]
  },
  {
   "cell_type": "code",
   "execution_count": null,
   "id": "92fc09d4",
   "metadata": {
    "jupyter": {
     "source_hidden": true
    }
   },
   "outputs": [],
   "source": [
    "$HtmlHead = '\n",
    "<meta name=\"viewport\" content=\"width=device-width, initial-scale=1.0\">\n",
    "<style>\n",
    "    body {\n",
    "        background-color: white;\n",
    "        font-family:      \"Calibri\";\n",
    "    }\n",
    "\n",
    "    table {\n",
    "        border-width:     1px;\n",
    "        border-style:     solid;\n",
    "        border-color:     black;\n",
    "        border-collapse:  collapse;\n",
    "        width:            100%;\n",
    "        table-layout: fixed;\n",
    "        margin-left: auto;\n",
    "        margin-right: auto;\n",
    "    }\n",
    "\n",
    "    th {\n",
    "        border-width:     1px;\n",
    "        padding:          5px;\n",
    "        border-style:     solid;\n",
    "        border-color:     black;\n",
    "        background-color: #98C6F3;\n",
    "    }\n",
    "\n",
    "    td {\n",
    "        border-width:     1px;\n",
    "        padding:          5px;\n",
    "        border-style:     solid;\n",
    "        border-color:     black;\n",
    "        background-color: White;\n",
    "        word-break: break-all;\n",
    "    }\n",
    "\n",
    "    tr {\n",
    "        text-align:       left;\n",
    "    }\n",
    "</style>'"
   ]
  },
  {
   "cell_type": "markdown",
   "id": "498986ab",
   "metadata": {
    "tags": []
   },
   "source": [
    "# Incidents\n",
    " In the series of cells below we will walk through investigating an \"**Unfamiliar Signin Properties**\" Incident.\n",
    " * First we will get a list of Incidents for this type within the lookback period\n",
    " * Next we will choose a specific account to investigate\n",
    " * From there we check things like \n",
    "    * Signins (Location / Ip Addresses / User Agent / Client Application)\n",
    "    * Alerts Linked to Account\n",
    "    * Activities from MCAS (Optional / Not parsed)"
   ]
  },
  {
   "cell_type": "markdown",
   "id": "f91fe68a",
   "metadata": {},
   "source": [
    "### Get Unfamiliar Incidents / Alerts\n",
    "- The function below is used to get unfamiliar incidents and alerts\n",
    "- You will not see any output from the cell."
   ]
  },
  {
   "cell_type": "code",
   "execution_count": null,
   "id": "1bd38749",
   "metadata": {
    "jupyter": {
     "source_hidden": true
    }
   },
   "outputs": [],
   "source": [
    "function Get-UnfamiliarAlerts {\n",
    "\n",
    "    [CmdletBinding()]\n",
    "    param (\n",
    "    \n",
    "        [Parameter(Mandatory=$true,\n",
    "        HelpMessage=\"Enter a TimeFrame in the format of: IntegerCharacter. Example: 1d - Meaning 1 day.\")]\n",
    "        [string]\n",
    "        $TimeFrame,\n",
    "        \n",
    "        [Parameter(Mandatory=$false,\n",
    "        HelpMessage=\"Enter a UserPrincipalName to filter alerts on. Example: Username@contoso.com\")]\n",
    "        [string]\n",
    "        $UserPrincipalName\n",
    "    )\n",
    "\n",
    "        if ($UserPrincipalName) {\n",
    "                $UserFilter = \"| where AlertName == 'Unfamiliar sign-in properties' and CompromisedEntity has `\"$UserPrincipalName`\" \"\n",
    "            }\n",
    "        else {\n",
    "                $UserFilter = \"//NoUserFilteredOn\"\n",
    "            }\n",
    "        \n",
    "$IncidentQuery = @\"\n",
    "    let Incidents = SecurityIncident\n",
    "    | where TimeGenerated > ago($TimeFrame)\n",
    "    | where Title == 'Unfamiliar sign-in properties'\n",
    "    | extend SystemAlertId = tostring(AlertIds[0])\n",
    "    | summarize arg_max(TimeGenerated, *) by IncidentNumber\n",
    "    //| where Status == 'Closed'\n",
    "    | project IncidentNumber, SystemAlertId;\n",
    "\n",
    "    SecurityAlert\n",
    "    | where TimeGenerated > ago($TimeFrame)\n",
    "    $UserFilter\n",
    "    | summarize arg_max(TimeGenerated,*), count() by SystemAlertId\n",
    "    | extend IPAddress = tostring(parse_json(ExtendedProperties).[\"Client IP Address\"])\n",
    "    | extend ClientLocation = tostring(parse_json(ExtendedProperties).[\"Client Location\"])\n",
    "    //| extend DetectionSubcategory = tostring(parse_json(ExtendedProperties).[\"Detection Subcategory\"])\n",
    "    | extend RequestId = tostring(parse_json(ExtendedProperties).[\"Request Id\"])\n",
    "    | extend TenantLoginSource = tostring(parse_json(ExtendedProperties).[\"Tenant Login Source\"])\n",
    "    | extend UserName = tostring(parse_json(ExtendedProperties).[\"User Name\"])\n",
    "    | extend AadUserId = tostring(parse_json(Entities)[0].AadUserId)\n",
    "    | join kind= inner (Incidents) on SystemAlertId\n",
    "    | sort by TimeGenerated desc\n",
    "    | extend Date = format_datetime(TimeGenerated, 'MM-dd-yy [hh:mm tt]')\n",
    "    | project Date, AlertType, UserName , UserPrincipalName = CompromisedEntity, IPAddress, ClientLocation, RequestId, SystemAlertId, IncidentNumber, AadUserId\n",
    "\"@\n",
    "\n",
    "        Write-Verbose -Message \"Query to run:`n$IncidentQuery\"\n",
    "        \n",
    "        $IncidentResults = @(Invoke-AzOperationalInsightsQuery -Workspace $Workspace -Query $IncidentQuery)\n",
    "        \n",
    "        Write-Verbose -Message \"If query does not return results, stop.\"\n",
    "        if (($IncidentResults.results).count -gt 0){\n",
    "        \n",
    "        write-verbose -Message \"Getting query results, converting to html, and outputting to 'IncidentsWithAlerts.html'\"\n",
    "        $IncidentResults.results | ConvertTo-Html -Head $HtmlHead | out-file \"IncidentsWithAlerts.html\"\n",
    "        \n",
    "        foreach($Result in $IncidentResults.results){\n",
    "                [PsCustomObject]@{\n",
    "                UserPrincipalName = $Result.UserPrincipalName;\n",
    "                IPAddress = $Result.IPAddress;\n",
    "                IncidentNumber = $Result.IncidentNumber;\n",
    "                }\n",
    "            }\n",
    "        }\n",
    "        \n",
    "        else {\n",
    "        Write-Output \"No results found. You may skip the next cell as no file was created containing the results.\"\n",
    "        }\n",
    "        \n",
    "        \n",
    "\n",
    "}"
   ]
  },
  {
   "cell_type": "markdown",
   "id": "1eee4fbd",
   "metadata": {},
   "source": [
    "### Query Unfamliar Alerts\n",
    "- The below cell is where we actually use the function to retrieve our Incidents / Alerts\n",
    "- Note the 'TimeFrame' and adjust it accordingly\n",
    "    - m = minute, h = hour, d = day\n",
    "- Once run the cell will display the UPNs of the users in the found incidents / alerts, the IPAddress, and incident number\n",
    "- The cell immediately after it will show a more detailed look at the incidents and alerts."
   ]
  },
  {
   "cell_type": "code",
   "execution_count": null,
   "id": "6a62a635",
   "metadata": {
    "jupyter": {
     "source_hidden": true
    }
   },
   "outputs": [],
   "source": [
    "Get-UnfamiliarAlerts -TimeFrame '1d'"
   ]
  },
  {
   "cell_type": "markdown",
   "id": "f050369d",
   "metadata": {},
   "source": [
    "### Show Results as Table\n",
    "- Uses an iframe to show the results as a formatted table"
   ]
  },
  {
   "cell_type": "code",
   "execution_count": null,
   "id": "4ab756b7",
   "metadata": {
    "jupyter": {
     "source_hidden": true
    }
   },
   "outputs": [],
   "source": [
    "#!html\n",
    "<iframe src = \"IncidentsWithAlerts.html\" width=100% height=\"400px\" frameborder=\"2px\"></iframe>"
   ]
  },
  {
   "cell_type": "markdown",
   "id": "c05ba4a8",
   "metadata": {},
   "source": [
    "## Get User Sign-ins\n",
    "- This function retrieves user sign-in events.\n",
    "- Run the cell below (You will not see any output from it, this just sets up the function to use.)"
   ]
  },
  {
   "cell_type": "code",
   "execution_count": null,
   "id": "27e04811",
   "metadata": {
    "jupyter": {
     "source_hidden": true
    }
   },
   "outputs": [],
   "source": [
    "function Get-UserSignins {\n",
    "\n",
    "    [CmdletBinding()]\n",
    "    param (\n",
    "    \n",
    "        [Parameter(Mandatory=$true,\n",
    "        HelpMessage=\"Enter a TimeFrame in the format of: IntegerCharacter. Example: 1d - Meaning 1 day.\")]\n",
    "        [string]\n",
    "        $TimeFrame,\n",
    "        \n",
    "        [Parameter(Mandatory=$true,\n",
    "        HelpMessage=\"Enter a UserPrincipalName to filter alerts on. Example: Username@contoso.com\")]\n",
    "        [string]\n",
    "        $UserPrincipalName\n",
    "    )\n",
    "        \n",
    "$SigninsQuery = @\"\n",
    "SigninLogs\n",
    "| where TimeGenerated > ago($TimeFrame)\n",
    "| where UserPrincipalName has '$UserPrincipalName'\n",
    "| extend Browser = tostring(DeviceDetail.browser) \n",
    "| extend City = tostring(LocationDetails.city) \n",
    "| extend Country = tostring(LocationDetails.countryOrRegion) \n",
    "| extend State = tostring(LocationDetails.state) \n",
    "| extend Date = format_datetime(TimeGenerated, 'MM-dd-yy [hh:mm tt]')\n",
    "| extend Succeeded = tostring(parse_json(AuthenticationDetails)[0].succeeded)\n",
    "| extend Succeeded = iff(Succeeded == 'true','Succeeded','Failed')\n",
    "| extend IsInteractive = iff(IsInteractive == 'true',\"Interactive\",\"Non-Interactive\")\n",
    "| sort by TimeGenerated desc\n",
    "| project Date, UserPrincipalName, IPAddress, IsInteractive, Succeeded, Browser, App = AppDisplayName, UserAgent, Country, State, City, RiskState\n",
    "\"@\n",
    "\n",
    "\n",
    "        Write-Verbose -Message \"Query to run:`n$SigninsQuery\"\n",
    "        $SigninQuery = @(Invoke-AzOperationalInsightsQuery -Workspace $workspace -Query $SigninsQuery)\n",
    "        \n",
    "        Write-Verbose -Message \"If query does not return results, stop.\"\n",
    "        if (($SigninQuery.results).count -gt 0){\n",
    "        \n",
    "        write-verbose -Message \"Getting query results, converting to html, and outputting to 'Signins.html'\"\n",
    "        $SigninQuery.results | ConvertTo-Html -Head $HtmlHead | Out-File \"Signins.html\"\n",
    "        \n",
    "        foreach($Result in $SigninQuery.results){\n",
    "                [PsCustomObject]@{\n",
    "                UserPrincipalName = $Result.UserPrincipalName;\n",
    "                IPAddress = $Result.IPAddress;\n",
    "                AadUserId = $Result.IsInteractive;\n",
    "                Succeeded = $Result.Succeeded;\n",
    "                App = $Result.App;\n",
    "                Location = @($Result.Country,\",\",$Result.State,\",\",$Result.City);\n",
    "                RiskState = $Result.RiskState;\n",
    "                }\n",
    "            }\n",
    "        }\n",
    "        \n",
    "        else {\n",
    "\n",
    "        Write-Output \"No results found. You may skip the next cell as no file was created containing the results.\" \n",
    "        }\n",
    "}\n",
    "\n",
    "## Sign-in Logs"
   ]
  },
  {
   "cell_type": "markdown",
   "id": "feaf0234",
   "metadata": {},
   "source": [
    "### Query Sign-ing Logs\n",
    "- The cell below queries the sign-in logs within the specified time range (note that it requires specifying a UserPrincipalName.)\n",
    "- You can remove the '#' from the code below to filter on a specific UserPrincipalName in the cell, or you can run it and specify it at run time.\n",
    "> Remember, you can expand a cell by clicking the three dots."
   ]
  },
  {
   "cell_type": "code",
   "execution_count": null,
   "id": "37b2ccd1",
   "metadata": {
    "jupyter": {
     "source_hidden": true
    }
   },
   "outputs": [],
   "source": [
    "$Signins = Get-UserSignins -TimeFrame '1d' # -UserPrincipalName \"user@contoso.com\"\n",
    "$Signins"
   ]
  },
  {
   "cell_type": "markdown",
   "id": "4ff43a61",
   "metadata": {},
   "source": [
    "### Visualize Sign-ins as a table\n",
    "- You can adjust the Height according to your needs - Example height=50% or height=\"500px\""
   ]
  },
  {
   "cell_type": "code",
   "execution_count": null,
   "id": "14e1f1fd",
   "metadata": {
    "jupyter": {
     "source_hidden": true
    }
   },
   "outputs": [],
   "source": [
    "#!html\n",
    "<iframe src = \"signins.html\" width=100% height=\"350px\" frameborder=\"0\"></iframe>"
   ]
  },
  {
   "cell_type": "markdown",
   "id": "29d22710",
   "metadata": {},
   "source": [
    "## Get Related Alerts\n",
    "- The below cell sets up our function for finding any related alerts for the UPN provided.\n",
    "- You will not see any output from the cell below when you run it (but make sure to run it!)"
   ]
  },
  {
   "cell_type": "code",
   "execution_count": null,
   "id": "eba934b7",
   "metadata": {
    "jupyter": {
     "source_hidden": true
    }
   },
   "outputs": [],
   "source": [
    "function Get-RelatedAlerts {\n",
    "\n",
    "    [CmdletBinding()]\n",
    "    param (\n",
    "    \n",
    "        [Parameter(Mandatory=$true,\n",
    "        HelpMessage=\"Enter a TimeFrame in the format of: IntegerCharacter. Example: 1d - Meaning 1 day.\")]\n",
    "        [string]\n",
    "        $TimeFrame,\n",
    "        \n",
    "        [Parameter(Mandatory=$true,\n",
    "        HelpMessage=\"Enter a UserPrincipalName to filter alerts on. Example: Username@contoso.com\")]\n",
    "        [string]\n",
    "        $UserPrincipalName\n",
    "    )\n",
    "        \n",
    "$RelatedAlertsQuery = @\"\n",
    "let Incidents = SecurityIncident\n",
    "| where TimeGenerated > ago($TimeFrame)\n",
    "| extend SystemAlertId = tostring(AlertIds[0])\n",
    "| summarize arg_max(TimeGenerated, *) by IncidentNumber\n",
    "| project IncidentNumber, SystemAlertId;\n",
    "\n",
    "SecurityAlert\n",
    "| where TimeGenerated > ago($Timeframe)\n",
    "| where AlertName !has \"Unfamiliar sign-in properties\"\n",
    "| extend Name = tostring(parse_json(Entities)[0].Name)\n",
    "| extend UPNSuffix = tostring(parse_json(Entities)[0].UPNSuffix)\n",
    "| extend UserPrincipalName = iff(CompromisedEntity != '',CompromisedEntity,strcat(Name,\"@\",UPNSuffix))\n",
    "| where UserPrincipalName has \"$UserPrincipalName\"\n",
    "| summarize arg_max(TimeGenerated,*), count() by SystemAlertId\n",
    "| join kind= inner (Incidents) on SystemAlertId\n",
    "| extend Date = format_datetime(TimeGenerated, 'MM-dd-yy [hh:mm tt]')\n",
    "| sort by TimeGenerated desc\n",
    "| project Date, AlertName, IncidentNumber\n",
    "\"@\n",
    "\n",
    "        Write-Verbose -Message \"Query to run:`n$RelatedAlertsQuery\"\n",
    "        $RelatedAlerts = @(Invoke-AzOperationalInsightsQuery -Workspace $workspace -Query $RelatedAlertsQuery)\n",
    "        \n",
    "        Write-Verbose -Message \"If query does not return results, stop.\"\n",
    "        if (($RelatedAlerts.results).count -gt 0){\n",
    "        \n",
    "        write-verbose -Message \"Getting query results, converting to html, and outputting to 'Signins.html'\"\n",
    "        $RelatedAlerts.results | ConvertTo-Html -Head $HtmlHead | Out-File \"RelatedAlerts.html\"\n",
    "        \n",
    "        foreach($Result in $RelatedAlerts.results){\n",
    "                [PsCustomObject]@{\n",
    "                Date = $Result.Date;\n",
    "                AlertName = $Result.AlertName;\n",
    "                IncidentNumber = $Result.IncidentNumber;\n",
    "                }\n",
    "            }\n",
    "        }\n",
    "        \n",
    "        else {\n",
    "        Write-Output \"No results found. You may skip the next cell as no file was created containing the results.\"\n",
    "        }\n",
    "}\n"
   ]
  },
  {
   "cell_type": "markdown",
   "id": "622c2c4f",
   "metadata": {},
   "source": [
    "### Call function to get Related Alerts\n",
    "- Default Timerange is 7 days, you can change it inline or remove it from the cell and specify it at runtime."
   ]
  },
  {
   "cell_type": "code",
   "execution_count": null,
   "id": "90e0b112",
   "metadata": {
    "jupyter": {
     "source_hidden": true
    }
   },
   "outputs": [],
   "source": [
    "$RelatedAlerts = Get-RelatedAlerts -TimeFrame '7d'\n",
    "$RelatedAlerts | Out-Null"
   ]
  },
  {
   "cell_type": "markdown",
   "id": "de3de205",
   "metadata": {},
   "source": [
    "### Visualize results as a table in iframe"
   ]
  },
  {
   "cell_type": "code",
   "execution_count": null,
   "id": "3ef29008",
   "metadata": {
    "jupyter": {
     "source_hidden": true
    }
   },
   "outputs": [],
   "source": [
    "#!html\n",
    "<iframe src = \"RelatedAlerts.html\" width=100% height=\"350px\" frameborder=\"0\"></iframe>"
   ]
  },
  {
   "cell_type": "markdown",
   "id": "9b724923",
   "metadata": {
    "tags": []
   },
   "source": [
    "# MCAS credential \n",
    "- To authenticate to MCAS you will need two things (detailed below).\n",
    "\n",
    "1. The **username** = your cloud app security url. Which is found by navigating to [Cloud App Security](https://portal.cloudappsecurity.com) and clicking the **?** in the top right, then clicking **about**. A window will popup and at the bottom of it will be your url (See Below Image).\n",
    "\n",
    "2. Then you will need to generate an api token for Cloud App Security (If you haven't already done so)\n",
    "    * For this you would select the gear icon in the top right of the MCAS portal\n",
    "    * Click **Security Extensions**\n",
    "    * Then click **Add Token**\n",
    "\n",
    "\n",
    "3. After gathering the required information run the cell below which will prompt for \n",
    "    * Username (MCAS url)\n",
    "     \n",
    "     >**Note:** Omit the \"Https://\" from the url!\n",
    "    \n",
    "    * Password (API Token)\n",
    "\n",
    "If you wish to save this information for future use (so you don't have to enter it every time), instead run the cell **Save MCAS Credential**."
   ]
  },
  {
   "cell_type": "code",
   "execution_count": null,
   "id": "16b35c85",
   "metadata": {
    "gather": {
     "logged": 1630965892296
    },
    "jupyter": {
     "source_hidden": true
    },
    "nteract": {
     "transient": {
      "deleting": false
     }
    }
   },
   "outputs": [],
   "source": [
    "Get-MCASCredential"
   ]
  },
  {
   "cell_type": "markdown",
   "id": "1f01dc65",
   "metadata": {},
   "source": [
    "## Save MCAS Credential\n",
    "- This cell will prompt for your MCAS url, API key, and export them to **MCAS.credential**\n",
    "- This allows you to run the **Import MCAS Credential** cell instead of having to enter your information every time."
   ]
  },
  {
   "cell_type": "code",
   "execution_count": null,
   "id": "65a79958",
   "metadata": {
    "jupyter": {
     "source_hidden": true
    },
    "tags": []
   },
   "outputs": [],
   "source": [
    "# Only need to run this initially\n",
    "Get-MCASCredential -PassThru | Export-CliXml MCAS.credential -Force"
   ]
  },
  {
   "cell_type": "markdown",
   "id": "68b7a0f6",
   "metadata": {},
   "source": [
    "## Import MCAS Credential**\n",
    "- Imports your saved MCAS credential from the **MCAS.credential** file."
   ]
  },
  {
   "cell_type": "code",
   "execution_count": null,
   "id": "d14eeb08",
   "metadata": {
    "gather": {
     "logged": 1630600966245
    },
    "jupyter": {
     "source_hidden": true
    },
    "tags": []
   },
   "outputs": [],
   "source": [
    "$CASCredential = Import-CliXml 'MCAS.credential'\n",
    "\n",
    "Write-Host \"Validate that the correct url shows in the UserName field\" -ForegroundColor Blue\n",
    "\n",
    "$CASCredential"
   ]
  },
  {
   "cell_type": "markdown",
   "id": "a87a7be6",
   "metadata": {},
   "source": [
    "## Get MCAS User Activity\n",
    "- The cell below is a powershell function that allows you to retrieve user activity from MCAS\n",
    "- Run the cell below (which will have no output), then run the cell after it (where you will see your output)."
   ]
  },
  {
   "cell_type": "code",
   "execution_count": null,
   "id": "134075fb",
   "metadata": {
    "jupyter": {
     "source_hidden": true
    }
   },
   "outputs": [],
   "source": [
    "function Get-MCASUserActivity {\n",
    "\n",
    "    [CmdletBinding()]\n",
    "    param (\n",
    "    \n",
    "        [Parameter(Mandatory=$true,\n",
    "        HelpMessage=\"Enter a TimeFrame as a number. Example 1 - for 1 day.\")]\n",
    "        [int32]\n",
    "        $TimeFrame,\n",
    "        \n",
    "        [Parameter(Mandatory=$true,\n",
    "        HelpMessage=\"Enter a UserPrincipalName to filter events on. Example: Username@contoso.com\")]\n",
    "        [string]\n",
    "        $UserPrincipalName\n",
    "    )\n",
    "    \n",
    "        Write-Verbose -Message \"Getting $UserPrincipalName's MCAS Data. Latest 100 events.\"\n",
    "        $MCASActivity = @((Get-MCASActivity -DaysAgo $TimeFrame -User $UserPrincipalName  -ResultSetSize 100).rawDataJson)\n",
    "         \n",
    "        Write-Verbose -Message \"If query does not return results, stop.\"\n",
    "        if (($MCASActivity).count -gt 0){\n",
    "        \n",
    "      #  write-verbose -Message \"Getting event results, converting to html, and outputting to 'MCASActivity.html'\"\n",
    "     #  $MCASActivity | ConvertTo-Html -Head $HtmlHead | Out-File \"MCASActivity.html\"\n",
    "            \n",
    "        $MCASActivity | Out-Host\n",
    "            }\n",
    "        \n",
    "        else {\n",
    "        Write-Output \"No results found. You may skip the next cell as no file was created containing the results.\"\n",
    "        }\n",
    "}"
   ]
  },
  {
   "cell_type": "markdown",
   "id": "10f018a5",
   "metadata": {},
   "source": [
    "### Get MCAS User Activity\n",
    "- Retrieves user activity from MCAS\n",
    "- Make sure to adjust the TimeFrame in the cell. The default is 7 (meaning 7 days)."
   ]
  },
  {
   "cell_type": "code",
   "execution_count": null,
   "id": "dd6cd1fa",
   "metadata": {
    "jupyter": {
     "source_hidden": true
    },
    "scrolled": true
   },
   "outputs": [],
   "source": [
    "Get-MCASUserActivity -TimeFrame 7"
   ]
  },
  {
   "cell_type": "markdown",
   "id": "adbf262d",
   "metadata": {},
   "source": [
    "# Incident Closure\n",
    "- The cell below allows you to close / classify an incident (or incidents).\n",
    "- Breakdown of what the cell does:\n",
    "    - Asks for you to input a comma or space delimited list of incidents\n",
    "    - Retrieves the incident information for each incident specified\n",
    "    - Ask if the incident is a True Positive (Enter Y/N)\n",
    "    - If Y, then classify as true positive, close, and optionally trigger a webhook to a logicapp with a json body containing the users UPN\n",
    "        - Note: The logic app part has been commented out. Removing the <# and #> from lines 12 and 21 to enable.\n",
    "    - If N, then ask to provide comments for incident, what to classify the incident as, and close the incident.\n",
    "    - If nothing is entered (or anything other than Y/N), do nothng."
   ]
  },
  {
   "cell_type": "code",
   "execution_count": null,
   "id": "1d6a79c8",
   "metadata": {
    "scrolled": true
   },
   "outputs": [],
   "source": [
    "[string[]] $IncidentList = @()\n",
    "$IncidentList = Read-host \"Enter list of incidents to pull (Seperated by comma or space)\"\n",
    "$IncidentList = $IncidentList.split(',').split(' ')\n",
    "$Incidents = Get-AzSentinelIncident -ResourceGroupName $resourcegroup -WorkspaceName $workspacename | Where-Object {$_.IncidentNumber -in $IncidentList}\n",
    "\n",
    "foreach($Incident in $Incidents)\n",
    "{\n",
    "$IncidentResult = Read-Host \"Based on the information gathered is incident \"$Incident.IncidentNumber\" a true positive? (Y/N)\"\n",
    "    if($IncidentResult -eq 'Y') \n",
    "{\n",
    "    $Incident |  Update-AzSentinelIncident -Classification TruePositive -ClassificationReason SuspiciousActivity -Status Closed\n",
    "<#    \n",
    "    $UserPrincipalName = read-host \"Enter the UPN to include in the body of the webhook request\"\n",
    "    $body = @\"\n",
    "    {\n",
    "        \"UserPrincipalName\": \"$UserPrincipalName\"\n",
    "    }\n",
    "\"@\n",
    "\n",
    "Invoke-RestMethod -Uri \"InsertLogicAppWebHookUri\" -ContentType \"application/json\" -Body $body -Method Post\n",
    "#>\n",
    "\n",
    "}\n",
    "\n",
    "    elseif($IncidentResult -eq 'N')\n",
    "{    \n",
    "        write-host \"Choose an option 1-4\"\n",
    "        write-host \"1 False Positive - incorrect alert logic\"\n",
    "        write-host \"2 False Positive - inaccurate data\"\n",
    "        write-host \"3 Undetermined\"\n",
    "        write-host \"4 Benign Positive - suspicious but expected\"\n",
    "        Write-Host \"Entering any other value or no value will result in no change to the incident.\"\n",
    "        $Classification = Read-Host \"Choose a classification 1-4\"\n",
    "        if ($Classification -in @(\"1\",\"2\",\"3\",\"4\")){\n",
    "            New-AzSentinelIncidentComment -ResourceGroupName $resourcegroup -WorkspaceName $workspace.Name -Message (Read-Host \"Enter comments to add to incident \" $Incident.IncidentNumber) -IncidentId ($Incident.Name)\n",
    "            Write-host \"Adding comments to incident \" $i.IncidentNumber\".\"\n",
    "        if ($Classification -eq '1') {$Incident |  Update-AzSentinelIncident -Classification FalsePositive -ClassificationReason IncorrectAlertLogic -Status Closed}\n",
    "        elseif ($Classification -eq '2') {$Incident |  Update-AzSentinelIncident -Classification FalsePositive -ClassificationReason InaccurateData  -Status Closed}\n",
    "        elseif ($Classification -eq '3') {$Incident |  Update-AzSentinelIncident -Classification Undetermined -Status Closed}\n",
    "        elseif ($Classification -eq '4') {$Incident |  Update-AzSentinelIncident -Classification BenignPositive -ClassificationReason SuspiciousButExpected -Status Closed}\n",
    "        Write-Host \"Closing Incident \"$Incident.IncidentNumber\".\"\n",
    "        }\n",
    "        \n",
    "        else {Write-Host \"No change being made to incident.\"}\n",
    "                 \n",
    "}\n",
    "    else\n",
    "{\n",
    "        Write-Host \"Still investigating. Got it.\"\n",
    "}\n",
    "}"
   ]
  },
  {
   "cell_type": "markdown",
   "id": "97990755",
   "metadata": {},
   "source": [
    "# Cleanup\n",
    "**The below cell removes all html files generated for tables generated from this notebook.**"
   ]
  },
  {
   "cell_type": "code",
   "execution_count": null,
   "id": "c5b5579e",
   "metadata": {
    "jupyter": {
     "source_hidden": true
    }
   },
   "outputs": [],
   "source": [
    "Remove-Item \"RelatedAlerts.html\",\"Signins.html\",\"IncidentsWithAlerts.html\",\"IncidentsToUpdate.html\",\"MCASData.html\" -Confirm"
   ]
  }
 ],
 "metadata": {
  "kernel_info": {
   "name": ".net-powershell"
  },
  "kernelspec": {
   "display_name": ".NET (PowerShell)",
   "language": "PowerShell",
   "name": ".net-powershell"
  },
  "language_info": {
   "file_extension": ".ps1",
   "mimetype": "text/x-powershell",
   "name": "PowerShell",
   "pygments_lexer": "powershell",
   "version": "7.0"
  },
  "nteract": {
   "version": "nteract-front-end@1.0.0"
  }
 },
 "nbformat": 4,
 "nbformat_minor": 5
}
