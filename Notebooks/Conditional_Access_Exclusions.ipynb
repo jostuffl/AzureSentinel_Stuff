{
 "cells": [
  {
   "cell_type": "markdown",
   "id": "6c09d959-69d5-4b15-9d81-04aa73aba49c",
   "metadata": {},
   "source": [
    "# Get Conditional Access Exclusions\n",
    "----\n",
    "## Description\n",
    "\n",
    "> This notebook utilizes the Microsoft Graph powershell modules to retrieve each conditional access policy, get all exclusions, then grabs the ids for each user / group and queries AzureAD to retrieve the friendly name. Finally it generates a csv to be used as a watchlist. The code in this notebook does not necessarily need to be run in a notebook. For example it could be run on prem, or and azure automation runbook, if modified to use App Auth with a certificate."
   ]
  },
  {
   "cell_type": "markdown",
   "id": "8ac0d751-f537-46a4-b4f3-2bd2215c5d07",
   "metadata": {},
   "source": [
    "## Step breakdown\n",
    "----\n",
    "> 1. First install the Microsoft Graph powershell module. (First Time Only)\n",
    "> 2. Import the Microsoft Graph module\n",
    "> 3. Connect to Microsoft Graph with required scopes (using Device Authentication)\n",
    "> 4. Get all conditional access policies and assign to a variable\n",
    "> 5. For each policy get all users / groups that are excluded and add to custom object array\n",
    "> 6. Convert array to CSV\n",
    "> 7. Upload CSV to Azure Blob Storage\n"
   ]
  },
  {
   "cell_type": "markdown",
   "id": "8e0178be-cc94-4bbf-ad6c-c531586e324c",
   "metadata": {},
   "source": [
    "### Step 1. Install Microsoft Graph Powershell Module\n",
    "----"
   ]
  },
  {
   "cell_type": "code",
   "execution_count": null,
   "id": "c071cd35-21c7-4c61-8056-69ab452317b2",
   "metadata": {
    "scrolled": true,
    "tags": []
   },
   "outputs": [],
   "source": [
    "Install-Module (\"Microsoft.Graph.Identity.SignIns\",\"Microsoft.Graph.Users\",\"Az.Storage\") -Force -Verbose"
   ]
  },
  {
   "cell_type": "markdown",
   "id": "34fe68f0-d0c7-4834-8e23-0751036a737c",
   "metadata": {},
   "source": [
    "### Steps 2-3 \n",
    "\n",
    "**Import Modules and Connect to Graph**\n",
    "\n",
    "----\n",
    "\n",
    "<div style=\"color: Red; background-color: Khaki; padding: 3px; font-size: 16px;\">\n",
    "To authenticate run the cell below, copy the code in the output, click the link in the output, paste code previously copied, and sign in.\n",
    "</div>"
   ]
  },
  {
   "cell_type": "code",
   "execution_count": null,
   "id": "e175b833-3eb6-4c7a-8c4e-3f173f1ea8fb",
   "metadata": {
    "scrolled": true,
    "tags": []
   },
   "outputs": [],
   "source": [
    "Import-Module (\"Microsoft.Graph.Identity.SignIns\",\"Microsoft.Graph.Users\",\"Az.Storage\") -Verbose"
   ]
  },
  {
   "cell_type": "code",
   "execution_count": null,
   "id": "4a3615f5-533d-4c25-a2e0-75a676703431",
   "metadata": {},
   "outputs": [],
   "source": [
    "Connect-MgGraph -UseDeviceAuthentication -Scopes (\"Policy.Read.All\",\"User.Read.All\",\"Group.Read.All\")"
   ]
  },
  {
   "cell_type": "markdown",
   "id": "8d14774b-ee66-463e-a6a0-0f9feb67d35a",
   "metadata": {},
   "source": [
    "### Steps 4-6\n",
    "**Get Conditional Access Policies, Get Exclusions, Retrieve User / Group Name, Create Array, Create CSV**\n",
    "\n",
    "----"
   ]
  },
  {
   "cell_type": "code",
   "execution_count": null,
   "id": "f4c34c4c-3a09-477b-813f-dccced9879c7",
   "metadata": {},
   "outputs": [],
   "source": [
    "$CAPs = Get-MgIdentityConditionalAccessPolicy\n",
    "[System.Collections.ArrayList]$PolicyArray = @()\n",
    "\n",
    "foreach ($Policy in $CAPs){\n",
    "    foreach($GroupExclusion in $Policy.Conditions.Users.ExcludeGroups){\n",
    "        $GetGroup = (Get-mggroup -groupid ($GroupExclusion).tostring())\n",
    "        $PolicyObject = [PSCustomObject]@{\n",
    "            PolicyName = $Policy.DisplayName\n",
    "            PolicyId = $Policy.Id\n",
    "            ExcludedGroups = $GetGroup.DisplayName\n",
    "            ExcludedUsers = $null\n",
    "        }\n",
    "        $PolicyArray.Add($PolicyObject) | out-null\n",
    "    }\n",
    "    \n",
    "    foreach($UserExclusion in $Policy.Conditions.Users.ExcludeUsers){\n",
    "        $GetUser = Get-mguser -userid $UserExclusion\n",
    "        $PolicyObject = [PSCustomObject]@{\n",
    "            PolicyName = $Policy.DisplayName\n",
    "            PolicyId = $Policy.Id\n",
    "            ExcludedGroups = $null\n",
    "            ExcludedUsers = $GetUser.UserPrincipalName\n",
    "        }\n",
    "        $PolicyArray.Add($PolicyObject) | out-null        \n",
    "    \n",
    "    }\n",
    "\n",
    "}\n",
    "\n",
    "$PolicyArray | export-csv .\\ConditionalAccessPolicyExclusions.csv -NoTypeInformation"
   ]
  },
  {
   "cell_type": "code",
   "execution_count": null,
   "id": "f60e5010-9dae-4bc8-8ad9-4b8ed67ff200",
   "metadata": {
    "scrolled": true,
    "tags": []
   },
   "outputs": [],
   "source": [
    "# Optional cell when running interactively to verify csv creation\n",
    "Import-Csv \".\\ConditionalAccessPolicyExclusions.csv\" | fl"
   ]
  },
  {
   "cell_type": "markdown",
   "id": "5395c14d-aa67-4209-9463-a60fc061d91c",
   "metadata": {},
   "source": [
    "### Step 7\n",
    "\n",
    "**Enter Sas Toke, Upload CSV to Azure Blog Storage, and remove created csv for cleanup**\n",
    "\n",
    "----"
   ]
  },
  {
   "cell_type": "code",
   "execution_count": null,
   "id": "3f46eac0-96e3-4afd-82a4-4a82b997b3b7",
   "metadata": {},
   "outputs": [],
   "source": [
    "$SasToken = Read-Host \"Enter your Sas token obtained from your Azure storage account container\""
   ]
  },
  {
   "cell_type": "code",
   "execution_count": null,
   "id": "d86d7189-aee9-4726-8878-12e38175bfc0",
   "metadata": {},
   "outputs": [],
   "source": [
    "$AzStorage = New-AzStorageContext -StorageAccountName \"generalsentinel\" -SasToken \"$SasToken\"\n",
    "Set-AzStorageBlobContent -File \".\\ConditionalAccessPolicyExclusions.csv\" -Container \"sentinel\" -Context $AzStorage -force"
   ]
  },
  {
   "cell_type": "code",
   "execution_count": null,
   "id": "b9f83ca0-f916-4484-ab31-3fc7cd72c25c",
   "metadata": {},
   "outputs": [],
   "source": [
    "Remove-Item \"ConditionalAccessPolicyExclusions.csv\""
   ]
  }
 ],
 "metadata": {
  "kernelspec": {
   "display_name": ".NET (PowerShell)",
   "language": "PowerShell",
   "name": ".net-powershell"
  },
  "language_info": {
   "file_extension": ".ps1",
   "mimetype": "text/x-powershell",
   "name": "PowerShell",
   "pygments_lexer": "powershell",
   "version": "7.0"
  }
 },
 "nbformat": 4,
 "nbformat_minor": 5
}
